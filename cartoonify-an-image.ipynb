{
 "cells": [
  {
   "cell_type": "code",
   "execution_count": 3,
   "metadata": {},
   "outputs": [],
   "source": [
    "import cv2 "
   ]
  },
  {
   "cell_type": "markdown",
   "metadata": {},
   "source": [
    "# For cartoonifying and saving a video"
   ]
  },
  {
   "cell_type": "code",
   "execution_count": 4,
   "metadata": {},
   "outputs": [],
   "source": [
    "vid = cv2.VideoCapture(r\"girl.mp4\")\n",
    "if(vid.isOpened() == False):\n",
    "    print(\"ERROR IN OPENING VIDEO\")\n",
    "frame_width = int(vid.get(3))\n",
    "frame_height = int(vid.get(4))\n",
    "\n",
    "#out = cv2.VideoWriter('output_pron.mp4', cv2.VideoWriter_fourcc(*'MP4V'), 10, (frame_width,frame_height))\n",
    "out = cv2.VideoWriter('cartoonified_girl.avi', cv2.VideoWriter_fourcc('M','J', 'P', 'G'), 10, (frame_width,frame_height))\n",
    "while(vid.isOpened()):\n",
    "    ret, frame = vid.read()\n",
    "    if ret == True:\n",
    "        gray = cv2.cvtColor(frame, cv2.COLOR_BGR2GRAY)\n",
    "        edges = cv2.adaptiveThreshold(gray, 255, cv2.ADAPTIVE_THRESH_MEAN_C, cv2.THRESH_BINARY, 9, 9)\n",
    "        color = cv2.bilateralFilter(frame, 9, 300, 300)\n",
    "        cartoon = cv2.bitwise_and(color,  color, mask=edges)\n",
    "        cv2.imshow('Frame',frame)\n",
    "        cv2.imshow('Gray_Frame',gray)\n",
    "        cv2.imshow('Edges_Frame',edges)\n",
    "        cv2.imshow('Color_Frame',color)\n",
    "        out.write(cartoon)\n",
    "        cv2.imshow('Cartoon_Frame',cartoon)\n",
    "        if cv2.waitKey(25) & 0xFF == ord('q'):\n",
    "            break\n",
    "    else:\n",
    "        break\n",
    "vid.release()\n",
    "out.release()\n",
    "cv2.destroyAllWindows()"
   ]
  },
  {
   "cell_type": "markdown",
   "metadata": {},
   "source": [
    "# For cartoonifying and saving an image"
   ]
  },
  {
   "cell_type": "code",
   "execution_count": 5,
   "metadata": {},
   "outputs": [],
   "source": [
    "img  = cv2.imread(r\"sunny.jpg\")\n",
    "cv2.imshow(\"Image\", img)\n",
    "gray = cv2.cvtColor(img, cv2.COLOR_BGR2GRAY)\n",
    "edges = cv2.adaptiveThreshold(gray, 255, cv2.ADAPTIVE_THRESH_MEAN_C, cv2.THRESH_BINARY, 9, 9)\n",
    "cv2.imshow(\"Edges\", edges)\n",
    "color = cv2.bilateralFilter(img, 9, 300, 300)\n",
    "\n",
    "cartoon = cv2.bitwise_and(color, color, mask=edges)\n",
    "\n",
    "\n",
    "cv2.imshow(\"Edges\", edges)\n",
    "cv2.imshow(\"Colors\", color)\n",
    "\n",
    "cv2.imshow(\"Cartoon\", cartoon)\n",
    "cv2.imwrite(\"cartoonified_girl.jpg\", cartoon)\n",
    "\n",
    "cv2.waitKey(0)\n",
    "cv2.destroyAllWindows()"
   ]
  }
 ],
 "metadata": {
  "kernelspec": {
   "display_name": "Python 3",
   "language": "python",
   "name": "python3"
  },
  "language_info": {
   "codemirror_mode": {
    "name": "ipython",
    "version": 3
   },
   "file_extension": ".py",
   "mimetype": "text/x-python",
   "name": "python",
   "nbconvert_exporter": "python",
   "pygments_lexer": "ipython3",
   "version": "3.7.4"
  },
  "varInspector": {
   "cols": {
    "lenName": 16,
    "lenType": 16,
    "lenVar": 40
   },
   "kernels_config": {
    "python": {
     "delete_cmd_postfix": "",
     "delete_cmd_prefix": "del ",
     "library": "var_list.py",
     "varRefreshCmd": "print(var_dic_list())"
    },
    "r": {
     "delete_cmd_postfix": ") ",
     "delete_cmd_prefix": "rm(",
     "library": "var_list.r",
     "varRefreshCmd": "cat(var_dic_list()) "
    }
   },
   "types_to_exclude": [
    "module",
    "function",
    "builtin_function_or_method",
    "instance",
    "_Feature"
   ],
   "window_display": false
  }
 },
 "nbformat": 4,
 "nbformat_minor": 2
}
